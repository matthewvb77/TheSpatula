{
 "cells": [
  {
   "cell_type": "code",
   "execution_count": null,
   "metadata": {},
   "outputs": [],
   "source": [
    "## Creates .csv list of crypto tickers        ## As of 2021/04/30 There are: 4904 cryptos ##\n",
    "\n",
    "from selenium import webdriver\n",
    "from selenium.webdriver.common.keys import Keys\n",
    "\n",
    "driver = webdriver.Chrome('C:/WebDriver/chromedriver')\n",
    "\n",
    "driver.get(\"https://coinmarketcap.com/all/views/all/\")\n",
    "\n",
    "load_more = driver.find_element_by_xpath(\"//div/button[text()='Load More']\")\n",
    "\n",
    "#close popup\n",
    "alert_x = driver.find_element_by_xpath(\"//*[@id='cmc-cookie-policy-banner']/div[2]\")\n",
    "alert_x.click()\n",
    "\n",
    "while(True):\n",
    "    try:   \n",
    "        load_more.click()\n",
    "    except:\n",
    "        continue\n",
    "        \n",
    "rows = driver.find_elements_by_xpath(\"//tr[@class='cmc-table-row']\")\n",
    "\n",
    "with open(\"tickers_crypto.csv\", \"w\") as f:\n",
    "    for row in rows:\n",
    "        symbol = row.find_element_by_xpath(\"td[@class='cmc-table__cell cmc-table__cell--sortable cmc-table__cell--left cmc-table__cell--sort-by__symbol']/div\").text\n",
    "        \n",
    "        f.write(symbol + \"\\n\")"
   ]
  },
  {
   "cell_type": "code",
   "execution_count": null,
   "metadata": {},
   "outputs": [],
   "source": []
  }
 ],
 "metadata": {
  "kernelspec": {
   "display_name": "Python 3",
   "language": "python",
   "name": "python3"
  },
  "language_info": {
   "codemirror_mode": {
    "name": "ipython",
    "version": 3
   },
   "file_extension": ".py",
   "mimetype": "text/x-python",
   "name": "python",
   "nbconvert_exporter": "python",
   "pygments_lexer": "ipython3",
   "version": "3.8.5"
  }
 },
 "nbformat": 4,
 "nbformat_minor": 4
}
