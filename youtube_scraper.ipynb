{
 "cells": [
  {
   "cell_type": "code",
   "execution_count": 1,
   "metadata": {},
   "outputs": [
    {
     "name": "stdout",
     "output_type": "stream",
     "text": [
      "FINISHHHED\n"
     ]
    }
   ],
   "source": [
    "from selenium import webdriver\n",
    "from selenium.webdriver.common.keys import Keys\n",
    "from selenium.webdriver.support import expected_conditions as EC\n",
    "from selenium.webdriver.common.by import By\n",
    "\n",
    "import pyautogui\n",
    "\n",
    "driver = webdriver.Chrome('C:/WebDriver/chromedriver')\n",
    "\n",
    "example_ticker = 'safemoon'\n",
    "ticker = example_ticker\n",
    "\n",
    "driver.get(\"https://www.youtube.com/results?search_query=\" + ticker)\n",
    "\n",
    "# while \"no more results\" is not displayed\n",
    "while(True):\n",
    "    try:\n",
    "        driver.find_element_by_xpath(\"/html/body/ytd-app/div/ytd-page-manager/ytd-search/div[1]/ytd-two-column-search-results-renderer/div/ytd-section-list-renderer/div[2]/ytd-item-section-renderer[30]/div[3]/ytd-message-renderer/yt-formatted-string[1]\")\n",
    "        \n",
    "    except:\n",
    "        pyautogui.press('pagedown')\n",
    "        continue\n",
    "        \n",
    "    break\n",
    "        \n",
    "print(\"FINISHHHED\")"
   ]
  },
  {
   "cell_type": "code",
   "execution_count": 18,
   "metadata": {},
   "outputs": [],
   "source": []
  },
  {
   "cell_type": "code",
   "execution_count": null,
   "metadata": {},
   "outputs": [],
   "source": []
  }
 ],
 "metadata": {
  "kernelspec": {
   "display_name": "Python 3",
   "language": "python",
   "name": "python3"
  },
  "language_info": {
   "codemirror_mode": {
    "name": "ipython",
    "version": 3
   },
   "file_extension": ".py",
   "mimetype": "text/x-python",
   "name": "python",
   "nbconvert_exporter": "python",
   "pygments_lexer": "ipython3",
   "version": "3.8.5"
  }
 },
 "nbformat": 4,
 "nbformat_minor": 4
}
