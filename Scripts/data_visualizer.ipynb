{
 "cells": [
  {
   "cell_type": "code",
   "execution_count": null,
   "metadata": {},
   "outputs": [],
   "source": [
    "import mysql.connector\n",
    "\n",
    "# returns connection object #\n",
    "def connect_to_db(db_name):\n",
    "    cnx = mysql.connector.connect(\n",
    "    user='root',\n",
    "    password='chalkHorseMountain',\n",
    "    host='localhost',\n",
    "    database=db_name\n",
    "    )\n",
    "    return cnx\n",
    "\n",
    "# returns boolean #\n",
    "def table_exists(cursor, tbl_name):\n",
    "    cursor.execute(\"\"\"\n",
    "        SELECT COUNT(*)\n",
    "        FROM information_schema.tables\n",
    "        WHERE table_schema = DATABASE()\n",
    "        AND table_name = \\\"\"\"\" + tbl_name + \"\"\"\\\";\n",
    "    \"\"\")\n",
    "    \n",
    "    if cursor.fetchone()[0] == 1:\n",
    "        return True\n",
    "    return False"
   ]
  },
  {
   "cell_type": "code",
   "execution_count": null,
   "metadata": {},
   "outputs": [],
   "source": [
    "cnx = connect_to_db(\"TheSpatula\")\n",
    "mycursor = cnx.cursor()\n",
    "assert mycursor\n",
    "assert table_exists(mycursor, \"reddit\")\n",
    "\n",
    "mycursor.execute(\"\"\"\n",
    "    SELECT num_votes, num_comments, date_posted\n",
    "    FROM reddit\n",
    "    WHERE symbol=\"TSLA\"\n",
    "    AND date_posted > \"2021-05-01\"\n",
    "    ;\n",
    "    \"\"\")\n",
    "\n",
    "votes = list()\n",
    "comments = list()\n",
    "dates = list()\n",
    "\n",
    "for (num_votes, num_comments, date_posted) in mycursor:\n",
    "    votes.append(num_votes)\n",
    "    comments.append(num_comments)\n",
    "    dates.append(date_posted)\n",
    "\n",
    "mycursor.close()\n",
    "cnx.close()"
   ]
  },
  {
   "cell_type": "code",
   "execution_count": null,
   "metadata": {},
   "outputs": [],
   "source": [
    "from matplotlib import pyplot as plt\n",
    "\n",
    "x = dates\n",
    "y = votes\n",
    "z = comments\n",
    "plt.plot(x,y)\n",
    "plt.plot(x,z)\n",
    "plt.title(\"Tesla Chart\")\n",
    "plt.xlabel(\"Date Posted\")\n",
    "plt.ylabel(\"Votes and Comments\")\n",
    "plt.legend([\"Votes\", \"Comments\"])\n",
    "plt.rcParams[\"figure.figsize\"] = (24, 4) #will set graph figure with 400px in width and 800px in height.\n",
    "plt.show()"
   ]
  },
  {
   "cell_type": "code",
   "execution_count": null,
   "metadata": {},
   "outputs": [],
   "source": []
  }
 ],
 "metadata": {
  "kernelspec": {
   "display_name": "Python 3",
   "language": "python",
   "name": "python3"
  },
  "language_info": {
   "codemirror_mode": {
    "name": "ipython",
    "version": 3
   },
   "file_extension": ".py",
   "mimetype": "text/x-python",
   "name": "python",
   "nbconvert_exporter": "python",
   "pygments_lexer": "ipython3",
   "version": "3.8.8"
  }
 },
 "nbformat": 4,
 "nbformat_minor": 4
}
