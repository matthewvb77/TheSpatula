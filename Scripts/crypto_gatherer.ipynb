{
 "cells": [
  {
   "cell_type": "code",
   "execution_count": 5,
   "metadata": {},
   "outputs": [
    {
     "name": "stdout",
     "output_type": "stream",
     "text": [
      "Phase[1/2]--Scrolling [01:15]\n"
     ]
    },
    {
     "data": {
      "application/vnd.jupyter.widget-view+json": {
       "model_id": "f0e1d34462c24d5d87b73d9e96374da7",
       "version_major": 2,
       "version_minor": 0
      },
      "text/plain": [
       "HBox(children=(HTML(value='Phase [2/2] -- Scraping'), FloatProgress(value=0.0, max=5023.0), HTML(value='')))"
      ]
     },
     "metadata": {},
     "output_type": "display_data"
    },
    {
     "name": "stdout",
     "output_type": "stream",
     "text": [
      "\n"
     ]
    }
   ],
   "source": [
    "## Creates .csv list of crypto tickers        ## As of 2021/04/30 There are: 4904 cryptos ##\n",
    "\n",
    "from selenium import webdriver\n",
    "from selenium.webdriver.common.keys import Keys\n",
    "\n",
    "from tqdm.notebook import tqdm\n",
    "import time\n",
    "\n",
    "driver = webdriver.Chrome('C:/WebDriver/chromedriver')\n",
    "\n",
    "driver.get(\"https://coinmarketcap.com/all/views/all/\")\n",
    "\n",
    "load_more = driver.find_element_by_xpath(\"//div/button[text()='Load More']\")\n",
    "\n",
    "#close popup\n",
    "alert_x = driver.find_element_by_xpath(\"//*[@id='cmc-cookie-policy-banner']/div[2]\")\n",
    "alert_x.click()\n",
    "\n",
    "    ## Begin Scrolling ##\n",
    "start = time.perf_counter()\n",
    "print(\"Phase[1/2]--Scrolling\", end=' ')\n",
    "\n",
    "while(True):\n",
    "    try:   \n",
    "        load_more.click()\n",
    "    except:\n",
    "        break\n",
    "        \n",
    "end = time.perf_counter()\n",
    "p1_time = divmod(int(end-start), 60)\n",
    "print(\"[{:02}:{:02}]\".format(p1_time[0], p1_time[1]))\n",
    "\n",
    "    ## Begin Scraping ##\n",
    "rows = driver.find_elements_by_xpath(\"//tr[contains(@class, 'cmc-table-row')]\")\n",
    "driver.close()\n",
    "\n",
    "with open(\"./../Tickers/tickers_crypto.csv\", \"w\") as f:\n",
    "    for i in tqdm(range(len(rows)), desc = 'Phase [2/2] -- Scraping'):\n",
    "        \n",
    "        try:\n",
    "            symbol = rows[i].find_element_by_xpath(\"td[@class='cmc-table__cell cmc-table__cell--sortable cmc-table__cell--left cmc-table__cell--sort-by__symbol']/div\").text\n",
    "            f.write(symbol + \"\\n\")\n",
    "        except:\n",
    "            pass\n",
    "            \n",
    "            "
   ]
  },
  {
   "cell_type": "code",
   "execution_count": null,
   "metadata": {},
   "outputs": [],
   "source": []
  }
 ],
 "metadata": {
  "kernelspec": {
   "display_name": "Python 3",
   "language": "python",
   "name": "python3"
  },
  "language_info": {
   "codemirror_mode": {
    "name": "ipython",
    "version": 3
   },
   "file_extension": ".py",
   "mimetype": "text/x-python",
   "name": "python",
   "nbconvert_exporter": "python",
   "pygments_lexer": "ipython3",
   "version": "3.8.5"
  }
 },
 "nbformat": 4,
 "nbformat_minor": 4
}
