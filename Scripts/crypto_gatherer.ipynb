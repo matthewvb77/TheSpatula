{
 "cells": [
  {
   "cell_type": "code",
   "execution_count": null,
   "metadata": {},
   "outputs": [],
   "source": [
    "## Creates .csv list of crypto tickers        ## As of 2021/04/30 There are: 4904 cryptos ##\n",
    "\n",
    "from selenium import webdriver\n",
    "from selenium.webdriver.common.by import By\n",
    "from selenium.webdriver.support.ui import WebDriverWait\n",
    "from selenium.webdriver.support import expected_conditions as EC\n",
    "\n",
    "from tqdm.notebook import tqdm\n",
    "\n",
    "class gatherers:\n",
    "    \n",
    "    def get_cryptos(self, path):\n",
    "        driver = webdriver.Chrome(path)\n",
    "        wait = WebDriverWait(driver, 10)\n",
    "        \n",
    "        driver.get(\"https://ca.investing.com/crypto/currencies\")\n",
    "        \n",
    "        try:    \n",
    "            popup_close = wait.until(EC.element_to_be_clickable((By.XPATH, \"//div/div/i[contains(@class, 'popupCloseIcon')]\")))\n",
    "            popup_close.click()\n",
    "        except:\n",
    "            pass\n",
    "            ## Wait for all rows to load\n",
    "        num_rows = driver.find_element_by_xpath(\"//*[@id='fullColumn']/ul/li[1]/span[2]/a\").text\n",
    "        num_rows = int(num_rows.replace(',', ''))\n",
    "        \n",
    "        wait.until(EC.visibility_of_element_located((By.XPATH, \"//table/tbody/tr[\" + str(num_rows-1) + \"]\")))\n",
    "        rows = driver.find_elements_by_xpath(\"//table/tbody/tr\")\n",
    "        driver.close\n",
    "        \n",
    "            ## Begin Scraping ##\n",
    "        \n",
    "        with open(\"./../Tickers/tickers_crypto.csv\", \"w\") as f:\n",
    "            for i in tqdm(range(len(rows)), desc = 'Scraping Rows'):\n",
    "                \n",
    "                try:\n",
    "                    symbol = rows[i].find_element_by_xpath(\".//td[contains(@class, 'js-currency-symbol')]\").get_attribute(\"title\")\n",
    "                    f.write(symbol + \"\\n\")\n",
    "                except:\n",
    "                    pass\n",
    "    \n",
    "if __name__ == \"__main__\": \n",
    "    mac_path = \"/opt/homebrew/bin/chromedriver\"\n",
    "    win_path = \"C:/WebDriver/chromedriver\"\n",
    "    \n",
    "    gatherers.get_cryptos(mac_path)\n"
   ]
  },
  {
   "cell_type": "code",
   "execution_count": null,
   "metadata": {},
   "outputs": [],
   "source": []
  }
 ],
 "metadata": {
  "kernelspec": {
   "display_name": "Python 3",
   "language": "python",
   "name": "python3"
  },
  "language_info": {
   "codemirror_mode": {
    "name": "ipython",
    "version": 3
   },
   "file_extension": ".py",
   "mimetype": "text/x-python",
   "name": "python",
   "nbconvert_exporter": "python",
   "pygments_lexer": "ipython3",
   "version": "3.8.8"
  }
 },
 "nbformat": 4,
 "nbformat_minor": 4
}
